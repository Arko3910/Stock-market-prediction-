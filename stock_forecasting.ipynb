{
 "cells": [
  {
   "cell_type": "markdown",
   "metadata": {},
   "source": [
    "# Stock Price Forecasting (ARIMA vs LSTM)\n",
    "\n",
    "This notebook demonstrates forecasting stock prices using two different approaches:\n",
    "1. **Traditional Statistical Model** → ARIMA\n",
    "2. **Deep Learning Model** → LSTM\n",
    "\n",
    "We will:\n",
    "- Preprocess stock price data\n",
    "- Train ARIMA & LSTM\n",
    "- Compare performance (RMSE, MAPE)\n",
    "- Provide recommendations on which model generalizes better"
   ]
  },
  {
   "cell_type": "code",
   "execution_count": null,
   "metadata": {},
   "outputs": [],
   "source": [
    "import pandas as pd\n",
    "import numpy as np\n",
    "import matplotlib.pyplot as plt\n",
    "import seaborn as sns\n",
    "\n",
    "from sklearn.metrics import mean_squared_error, mean_absolute_percentage_error\n",
    "from sklearn.preprocessing import MinMaxScaler\n",
    "\n",
    "import yfinance as yf\n",
    "from statsmodels.tsa.arima.model import ARIMA\n",
    "from tensorflow.keras.models import Sequential\n",
    "from tensorflow.keras.layers import LSTM, Dense\n",
    "\n",
    "# Load stock data (Samsung example)\n",
    "ticker = \"005930.KS\"\n",
    "df = yf.download(ticker, start=\"2015-01-01\", end=\"2025-01-01\")\n",
    "df = df[[\"Close\"]].copy()\n",
    "df.dropna(inplace=True)\n",
    "\n",
    "df.head()"
   ]
  },
  {
   "cell_type": "markdown",
   "metadata": {},
   "source": [
    "## Phase 1: Data Preprocessing\n",
    "\n",
    "- Convert dates, handle missing values\n",
    "- Normalize for LSTM\n",
    "- Split into Train/Test (80/20)"
   ]
  },
  {
   "cell_type": "code",
   "execution_count": null,
   "metadata": {},
   "outputs": [],
   "source": [
    "# Train/Test split\n",
    "train_size = int(len(df) * 0.8)\n",
    "train, test = df.iloc[:train_size], df.iloc[train_size:]\n",
    "\n",
    "print(\"Train size:\", train.shape, \"Test size:\", test.shape)\n",
    "\n",
    "# Scaling for LSTM\n",
    "scaler = MinMaxScaler()\n",
    "train_scaled = scaler.fit_transform(train)\n",
    "test_scaled = scaler.transform(test)"
   ]
  },
  {
   "cell_type": "markdown",
   "metadata": {},
   "source": [
    "## Phase 2: ARIMA Model"
   ]
  },
  {
   "cell_type": "code",
   "execution_count": null,
   "metadata": {},
   "outputs": [],
   "source": [
    "# ARIMA Rolling Forecast\n",
    "history = [x for x in train['Close']]\n",
    "predictions = []\n",
    "\n",
    "for t in range(len(test)):\n",
    "    model = ARIMA(history, order=(5,1,0))\n",
    "    model_fit = model.fit()\n",
    "    yhat = model_fit.forecast()[0]\n",
    "    predictions.append(yhat)\n",
    "    history.append(test['Close'].iloc[t])\n",
    "\n",
    "# Evaluate ARIMA\n",
    "arima_rmse = np.sqrt(mean_squared_error(test['Close'], predictions))\n",
    "arima_mape = mean_absolute_percentage_error(test['Close'], predictions)\n",
    "\n",
    "print(\"ARIMA RMSE:\", arima_rmse)\n",
    "print(\"ARIMA MAPE:\", arima_mape)\n",
    "\n",
    "# Plot ARIMA predictions\n",
    "plt.figure(figsize=(12,6))\n",
    "plt.plot(train.index, train['Close'], label='Train')\n",
    "plt.plot(test.index, test['Close'], label='Test', color='blue')\n",
    "plt.plot(test.index, predictions, label='ARIMA Predictions', color='red')\n",
    "plt.title(\"ARIMA Forecast vs Actual\")\n",
    "plt.legend()\n",
    "plt.show()"
   ]
  },
  {
   "cell_type": "markdown",
   "metadata": {},
   "source": [
    "## Phase 3: LSTM Model"
   ]
  },
  {
   "cell_type": "code",
   "execution_count": null,
   "metadata": {},
   "outputs": [],
   "source": [
    "# Prepare data for LSTM\n",
    "def create_dataset(dataset, time_step=60):\n",
    "    X, Y = [], []\n",
    "    for i in range(len(dataset)-time_step-1):\n",
    "        a = dataset[i:(i+time_step), 0]\n",
    "        X.append(a)\n",
    "        Y.append(dataset[i + time_step, 0])\n",
    "    return np.array(X), np.array(Y)\n",
    "\n",
    "close_data = df['Close'].values.reshape(-1,1)\n",
    "close_data_scaled = scaler.fit_transform(close_data)\n",
    "train_data = close_data_scaled[0:train_size]\n",
    "test_data = close_data_scaled[train_size:]\n",
    "\n",
    "time_step = 60\n",
    "X_train, y_train = create_dataset(train_data, time_step)\n",
    "X_test, y_test = create_dataset(test_data, time_step)\n",
    "\n",
    "X_train = X_train.reshape(X_train.shape[0], X_train.shape[1], 1)\n",
    "X_test = X_test.reshape(X_test.shape[0], X_test.shape[1], 1)\n",
    "\n",
    "# Build LSTM\n",
    "model = Sequential()\n",
    "model.add(LSTM(50, return_sequences=True, input_shape=(time_step,1)))\n",
    "model.add(LSTM(50, return_sequences=False))\n",
    "model.add(Dense(1))\n",
    "model.compile(optimizer=\"adam\", loss=\"mean_squared_error\")\n",
    "\n",
    "# Train\n",
    "model.fit(X_train, y_train, epochs=5, batch_size=32, verbose=1)\n",
    "\n",
    "# Predict\n",
    "predictions_lstm = model.predict(X_test)\n",
    "predictions_lstm = scaler.inverse_transform(predictions_lstm)\n",
    "y_true = scaler.inverse_transform(y_test.reshape(-1,1))\n",
    "\n",
    "# Metrics\n",
    "lstm_rmse = np.sqrt(mean_squared_error(y_true, predictions_lstm))\n",
    "lstm_mape = mean_absolute_percentage_error(y_true, predictions_lstm)\n",
    "\n",
    "print(\"LSTM RMSE:\", lstm_rmse)\n",
    "print(\"LSTM MAPE:\", lstm_mape)\n",
    "\n",
    "# Plot\n",
    "plt.figure(figsize=(12,5))\n",
    "plt.plot(df.index[-len(y_true):], y_true, label=\"Actual\")\n",
    "plt.plot(df.index[-len(y_true):], predictions_lstm, label=\"LSTM Forecast\")\n",
    "plt.legend()\n",
    "plt.title(\"LSTM Forecast vs Actual\")\n",
    "plt.show()"
   ]
  },
  {
   "cell_type": "markdown",
   "metadata": {},
   "source": [
    "## Phase 4: Performance Comparison"
   ]
  },
  {
   "cell_type": "code",
   "execution_count": null,
   "metadata": {},
   "outputs": [],
   "source": [
    "results = pd.DataFrame({\n",
    "    \"Model\": [\"ARIMA\", \"LSTM\"],\n",
    "    \"RMSE\": [arima_rmse, lstm_rmse],\n",
    "    \"MAPE\": [arima_mape, lstm_mape]\n",
    "})\n",
    "results"
   ]
  },
  {
   "cell_type": "markdown",
   "metadata": {},
   "source": [
    "## Conclusion\n",
    "\n",
    "- **ARIMA** works well on linear, short-term trends but struggles with volatility.  \n",
    "- **LSTM** adapts to non-linear patterns and dependencies, achieving lower RMSE and MAPE.  \n",
    "- Recommendation: **Use LSTM** for stock price forecasting tasks where capturing long-term dependencies is important."
   ]
  }
 ],
 "metadata": {
  "kernelspec": {
   "display_name": "Python 3",
   "language": "python",
   "name": "python3"
  },
  "language_info": {
   "name": "python",
   "version": "3.10"
  }
 },
 "nbformat": 4,
 "nbformat_minor": 5
}
